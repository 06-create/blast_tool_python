{
  "nbformat": 4,
  "nbformat_minor": 0,
  "metadata": {
    "colab": {
      "provenance": []
    },
    "kernelspec": {
      "name": "python3",
      "display_name": "Python 3"
    },
    "language_info": {
      "name": "python"
    }
  },
  "cells": [
    {
      "cell_type": "code",
      "execution_count": 1,
      "metadata": {
        "colab": {
          "base_uri": "https://localhost:8080/"
        },
        "id": "ick8KBQdQzvf",
        "outputId": "94f7a6e0-7b2a-40d3-e9b1-ccc3c304a979"
      },
      "outputs": [
        {
          "output_type": "stream",
          "name": "stdout",
          "text": [
            "Collecting biopython\n",
            "  Downloading biopython-1.85-cp311-cp311-manylinux_2_17_x86_64.manylinux2014_x86_64.whl.metadata (13 kB)\n",
            "Requirement already satisfied: numpy in /usr/local/lib/python3.11/dist-packages (from biopython) (2.0.2)\n",
            "Downloading biopython-1.85-cp311-cp311-manylinux_2_17_x86_64.manylinux2014_x86_64.whl (3.3 MB)\n",
            "\u001b[?25l   \u001b[90m━━━━━━━━━━━━━━━━━━━━━━━━━━━━━━━━━━━━━━━━\u001b[0m \u001b[32m0.0/3.3 MB\u001b[0m \u001b[31m?\u001b[0m eta \u001b[36m-:--:--\u001b[0m\r\u001b[2K   \u001b[91m━━━━━━━━━━━━━━━━━━━━━━\u001b[0m\u001b[90m╺\u001b[0m\u001b[90m━━━━━━━━━━━━━━━━━\u001b[0m \u001b[32m1.8/3.3 MB\u001b[0m \u001b[31m53.2 MB/s\u001b[0m eta \u001b[36m0:00:01\u001b[0m\r\u001b[2K   \u001b[91m━━━━━━━━━━━━━━━━━━━━━━━━━━━━━━━━━━━━━━━\u001b[0m\u001b[91m╸\u001b[0m \u001b[32m3.3/3.3 MB\u001b[0m \u001b[31m65.9 MB/s\u001b[0m eta \u001b[36m0:00:01\u001b[0m\r\u001b[2K   \u001b[90m━━━━━━━━━━━━━━━━━━━━━━━━━━━━━━━━━━━━━━━━\u001b[0m \u001b[32m3.3/3.3 MB\u001b[0m \u001b[31m42.8 MB/s\u001b[0m eta \u001b[36m0:00:00\u001b[0m\n",
            "\u001b[?25hInstalling collected packages: biopython\n",
            "Successfully installed biopython-1.85\n",
            "Running BLAST...\n",
            "BLAST completed and saved as blast_result.xml\n",
            "\n",
            "Top 5 Matches:\n",
            "Title: gi|2852408356|emb|OZ040817.1| Escherichia coli isolate 30345_1#232 genome assembly, chromosome: 1\n",
            "Length: 4945806\n",
            "E-value: 1.25912e-14\n",
            "------------------------------------------------------------\n",
            "Title: gi|2853665327|gb|CP173561.1| Escherichia coli strain 98201 chromosome, complete genome\n",
            "Length: 4883878\n",
            "E-value: 1.25912e-14\n",
            "------------------------------------------------------------\n",
            "Title: gi|2887063842|gb|CP125914.1| Escherichia coli strain IVRI_FBI_593 chromosome\n",
            "Length: 4982747\n",
            "E-value: 1.25912e-14\n",
            "------------------------------------------------------------\n",
            "Title: gi|2852407997|emb|OZ039544.1| Escherichia coli isolate 30345_1#135 genome assembly, chromosome: 1\n",
            "Length: 5020686\n",
            "E-value: 1.25912e-14\n",
            "------------------------------------------------------------\n",
            "Title: gi|2852408548|emb|OZ039822.1| Escherichia coli isolate 30224_1#182 genome assembly, chromosome: 1\n",
            "Length: 4926076\n",
            "E-value: 1.25912e-14\n",
            "------------------------------------------------------------\n"
          ]
        }
      ],
      "source": [
        "# Install Biopython\n",
        "!pip install biopython\n",
        "\n",
        "# Import required modules\n",
        "from Bio.Blast import NCBIWWW, NCBIXML\n",
        "\n",
        "# Sample DNA sequence\n",
        "sequence = \"AGCTTTTCATTCTGACTGCAACGGGCAATATGTCTCTGTGTGGATTAAA\"\n",
        "\n",
        "# Run BLAST search\n",
        "print(\"Running BLAST...\")\n",
        "result_handle = NCBIWWW.qblast(\"blastn\", \"nt\", sequence)\n",
        "blast_result = result_handle.read()\n",
        "\n",
        "# Save result to XML\n",
        "with open(\"blast_result.xml\", \"w\") as file:\n",
        "    file.write(blast_result)\n",
        "\n",
        "print(\"BLAST completed and saved as blast_result.xml\")\n",
        "\n",
        "# Reopen the file to parse\n",
        "with open(\"blast_result.xml\") as result_handle:\n",
        "    blast_records = NCBIXML.parse(result_handle)\n",
        "    blast_record = next(blast_records)\n",
        "\n",
        "# Print top 5 alignments\n",
        "print(\"\\nTop 5 Matches:\")\n",
        "for alignment in blast_record.alignments[:5]:\n",
        "    print(\"Title:\", alignment.title)\n",
        "    print(\"Length:\", alignment.length)\n",
        "    print(\"E-value:\", alignment.hsps[0].expect)\n",
        "    print(\"-\" * 60)\n"
      ]
    }
  ]
}